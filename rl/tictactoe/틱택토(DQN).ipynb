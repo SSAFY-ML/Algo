{
 "cells": [
  {
   "cell_type": "code",
   "execution_count": 1,
   "metadata": {},
   "outputs": [
    {
     "name": "stderr",
     "output_type": "stream",
     "text": [
      "Using TensorFlow backend.\n"
     ]
    }
   ],
   "source": [
    "import numpy as np\n",
    "import seaborn as sns\n",
    "from time import time\n",
    "\n",
    "import tensorflow as tf\n",
    "from tensorflow import keras\n",
    "from keras import layers, models\n",
    "from keras.regularizers import L1L2\n",
    "import keras.backend as K\n",
    "\n",
    "import os\n",
    "import gc\n",
    "from pathlib import Path\n",
    "\n",
    "# tf.config.experimental.set_visible_devices([], 'GPU')"
   ]
  },
  {
   "cell_type": "code",
   "execution_count": 2,
   "metadata": {},
   "outputs": [],
   "source": [
    "init_state = np.array([\n",
    "    [0, 0, 0],\n",
    "    [0, 0, 0],\n",
    "    [0, 0, 0]\n",
    "])"
   ]
  },
  {
   "cell_type": "code",
   "execution_count": 3,
   "metadata": {},
   "outputs": [],
   "source": [
    "class Game:\n",
    "    def __init__(self, state, FIRST):\n",
    "        self.state = state\n",
    "        self.empty = self.make_empty(state)\n",
    "        self.first_player = FIRST\n",
    "        \n",
    "    def make_empty(self, state):\n",
    "        emp = []\n",
    "        for i in range(3):\n",
    "            for j in range(3):\n",
    "                if state[i][j] == 0:\n",
    "                    emp.append(3*i + j)\n",
    "        \n",
    "        return emp\n",
    "    \n",
    "    def is_lose(self, a):\n",
    "        opp = 2 - (a-1)\n",
    "        \n",
    "        for i in range(3):\n",
    "            if self.state[i][0] == self.state[i][1] == self.state[i][2] == opp:\n",
    "                return True\n",
    "            elif self.state[0][i] == self.state[1][i] == self.state[2][i] == opp:\n",
    "                return True\n",
    "        if self.state[0][0] == self.state[1][1] == self.state[2][2] == opp:\n",
    "            return True\n",
    "        if self.state[0][2] == self.state[1][1] == self.state[2][0] == opp:\n",
    "            return True\n",
    "        return 0\n",
    "    \n",
    "    def is_win(self, a):       \n",
    "        for i in range(3):\n",
    "            if self.state[i][0] == self.state[i][1] == self.state[i][2] == a:\n",
    "                return True\n",
    "            elif self.state[0][i] == self.state[1][i] == self.state[2][i] == a:\n",
    "                return True\n",
    "        if self.state[0][0] == self.state[1][1] == self.state[2][2] == a:\n",
    "            return True\n",
    "        if self.state[0][2] == self.state[1][1] == self.state[2][0] == a:\n",
    "            return True\n",
    "        return False\n",
    "    \n",
    "    def is_draw(self, a):\n",
    "        if self.is_win(a):\n",
    "            return 0\n",
    "        if np.all(self.state):\n",
    "            return 1\n",
    "        else:\n",
    "            return 0\n",
    "        \n",
    "    def is_done(self):\n",
    "        if self.is_win(1) or self.is_win(2) or self.is_draw(1) or self.is_draw(2):\n",
    "            return 1\n",
    "        else:\n",
    "            return 0\n",
    "        \n",
    "        \n",
    "    def update(self, target):\n",
    "        state = self.state.copy()\n",
    "        x, y = target//3, target%3\n",
    "        a = self.next_opp()\n",
    "        state[x][y] = a\n",
    "        return Game(state, self.first_player)\n",
    "    \n",
    "    \n",
    "    def next_opp(self):\n",
    "        a = b = 0\n",
    "        for i in range(len(self.state)):\n",
    "            for j in range(len(self.state)):\n",
    "                if self.state[i][j] == self.first_player:\n",
    "                    a += 1\n",
    "                elif self.state[i][j] != 0:\n",
    "                    b += 1\n",
    "                    \n",
    "        if a == b:\n",
    "            return self.first_player\n",
    "        else:\n",
    "            return 2 + min(0, 1-self.first_player)"
   ]
  },
  {
   "cell_type": "code",
   "execution_count": 4,
   "metadata": {},
   "outputs": [],
   "source": [
    "class Random:\n",
    "    def __init__(self, status):\n",
    "        self.status = status\n",
    "\n",
    "    def action(self, game):\n",
    "        return np.random.choice(game.empty)"
   ]
  },
  {
   "cell_type": "code",
   "execution_count": 31,
   "metadata": {},
   "outputs": [],
   "source": [
    "status = 1\n",
    "\n",
    "\n",
    "\n",
    "\n",
    "# def action(game):\n",
    "#     values = [0] * len(game.empty)\n",
    "\n",
    "#     for i, a in enumerate(game.empty):\n",
    "#         for _ in range(100):\n",
    "#             g = game.update(a)\n",
    "#             values[i] += playout(g)\n",
    "\n",
    "#     return game.empty[np.argmax(values)]"
   ]
  },
  {
   "cell_type": "code",
   "execution_count": 39,
   "metadata": {},
   "outputs": [],
   "source": [
    "DN_FILTERS = 64 #초기 노드 수\n",
    "DN_RESIDUAL_NUM = 3  # 중간노드\n",
    "DN_OUTPUT_SIZE = 9  # 행동 수(배치 수(3*3))\n",
    "    \n",
    "def make_model():\n",
    "    inputs = layers.Input(shape = (9, ))\n",
    "    x = layers.Dense(DN_FILTERS)(inputs)\n",
    "    for i in range(DN_RESIDUAL_NUM):\n",
    "        x = layers.Dense(DN_FILTERS//2, kernel_initializer='he_normal', kernel_regularizer=L1L2(l2=0.001))(x)\n",
    "        x = layers.BatchNormalization()(x)\n",
    "        x = layers.Activation('relu')(x)\n",
    "        \n",
    "    outputs = layers.Dense(DN_OUTPUT_SIZE, activation='softmax', kernel_regularizer=L1L2(l2=0.001))(x)\n",
    "    m = models.Model(inputs, outputs)\n",
    "    m.compile(optimizer = 'adam',\n",
    "              loss = 'categorical_crossentropy')\n",
    "    \n",
    "    return m\n",
    "\n",
    "class DQN:\n",
    "    def __init__(self, status):\n",
    "        K.clear_session()\n",
    "        self.model = make_model()\n",
    "        self.status = status\n",
    "        \n",
    "    def action(self, game):\n",
    "        status = game.next_opp()\n",
    "        target = self.make_state(game)       \n",
    "        res = self.model.predict(target)[0]\n",
    "        a = np.argmax(res)\n",
    "        while a not in game.empty:\n",
    "            res[a] = -float('inf')\n",
    "            a = np.argmax(res)\n",
    "        return a\n",
    "    \n",
    "    def playout(self, game):\n",
    "        status = self.status\n",
    "        if game.is_lose(status):\n",
    "            return -1\n",
    "\n",
    "        if game.is_draw(status):\n",
    "            return 0\n",
    "\n",
    "\n",
    "        if game.is_win(status):\n",
    "            return 1\n",
    "\n",
    "        return self.playout(game.update(np.random.choice(game.empty)))\n",
    "    \n",
    "    def value(self, game):\n",
    "        values = [0] * 9\n",
    "        n_steps = 20\n",
    "\n",
    "        for i in range(9):\n",
    "            if i in game.empty:\n",
    "                for _ in range(n_steps):\n",
    "                    g = game.update(i)\n",
    "                    values[i] += playout(g)\n",
    "            values[i] /= n_steps\n",
    "            \n",
    "        return values\n",
    "\n",
    "    def train(self):\n",
    "        GAMMA = 0.95\n",
    "        for i in [1, 2]:\n",
    "            game = Game(init_state, i)\n",
    "            memory = []\n",
    "            while 1:\n",
    "                status = game.next_opp()\n",
    "                state = self.make_state(game)\n",
    "                \n",
    "\n",
    "                a = self.action(game)\n",
    "                \n",
    "                if game.is_win(status):\n",
    "                    r = 1\n",
    "                    state_next = np.zeros(9)\n",
    "                else:\n",
    "                    r = 0\n",
    "                    state_next = self.make_state(game.update(a))\n",
    "                v = self.value(game)\n",
    "                memory.append((state, a, r, v, state_next))\n",
    "                \n",
    "                game = game.update(a)\n",
    "                if game.is_done():\n",
    "                    break    \n",
    "                \n",
    "            inputs = np.zeros((len(memory), 9))\n",
    "            targets = np.zeros((len(memory), 9))\n",
    "            for j, (state, a, r, v, state_next) in enumerate(memory):\n",
    "                inputs[j] = state\n",
    "                if (state_next == np.zeros(9)).all():\n",
    "                    target = r\n",
    "                else:\n",
    "                    target = r + GAMMA * np.argmax(self.model.predict(state_next)[0])\n",
    "                \n",
    "#                 targets[j] = v\n",
    "                targets[j][a] += target\n",
    "\n",
    "            self.model.fit(inputs, targets, epochs=1, verbose=0)\n",
    "                \n",
    "    \n",
    "    def opp(self, status):\n",
    "        return 2 + min(0, 1-status)\n",
    "    \n",
    "    def make_state(self, game):\n",
    "        state = np.reshape(game.state, (1, 9))\n",
    "        state = np.where(state==game.next_opp(), 1, np.where(state==0, 0, -1))\n",
    "        return state"
   ]
  },
  {
   "cell_type": "code",
   "execution_count": 40,
   "metadata": {},
   "outputs": [],
   "source": [
    "dd = DQN(1)"
   ]
  },
  {
   "cell_type": "code",
   "execution_count": 41,
   "metadata": {
    "scrolled": true
   },
   "outputs": [],
   "source": [
    "dd.train()"
   ]
  },
  {
   "cell_type": "code",
   "execution_count": 42,
   "metadata": {
    "scrolled": true
   },
   "outputs": [],
   "source": [
    "for _ in range(1000):\n",
    "#     print(_)\n",
    "    dd.train()\n",
    "    \n",
    "# dd.model.save('./dqn500.h5')"
   ]
  },
  {
   "cell_type": "code",
   "execution_count": null,
   "metadata": {},
   "outputs": [],
   "source": [
    "a = init_state.copy()\n",
    "a = np.reshape(a, (1, 1, 3, 3)).astype('float')\n",
    "a = np.where(a==1, 1., np.where(a==0, 0, -1.))\n",
    "\n",
    "dd.model.predict(a)\n"
   ]
  },
  {
   "cell_type": "code",
   "execution_count": null,
   "metadata": {},
   "outputs": [],
   "source": [
    "gc.collect()"
   ]
  },
  {
   "cell_type": "code",
   "execution_count": null,
   "metadata": {},
   "outputs": [],
   "source": [
    "# def train(game):\n",
    "#     global X, y\n",
    "\n",
    "#     while 1:\n",
    "#         X.append(np.reshape(game.state, (1, 3, 3)))\n",
    "#         a1 = action(game)\n",
    "#         game = game.update(a1)\n",
    "#         temp_y = [0] * 9\n",
    "#         temp_y[a1] = 1\n",
    "#         y.append(temp_y)\n",
    "    \n",
    "#         if game.is_win(1):\n",
    "#             break \n",
    "#         elif game.is_draw(1):\n",
    "#             break \n",
    "\n",
    "#         a2 = np.random.choice(game.empty)\n",
    "#         game = game.update(a2)\n",
    "#         if game.is_win(2):\n",
    "#             y *= -1\n",
    "#             break \n",
    "#         elif game.is_draw(2):\n",
    "#             break\n",
    "        \n",
    "#     X = np.reshape(X, (len(X), 1, 3, 3))\n",
    "#     if len(y) == 0:\n",
    "#         print('pass')\n",
    "#         return\n",
    "#     y = np.reshape(y, (len(X), 9))   \n",
    "\n",
    "#     k.model.fit(X, y, epochs=1, verbose=0)\n",
    "# #     return model"
   ]
  },
  {
   "cell_type": "code",
   "execution_count": null,
   "metadata": {
    "scrolled": true
   },
   "outputs": [],
   "source": [
    "# %%time\n",
    "# # train n_steps\n",
    "# FIRST = 1\n",
    "# k = DQN(1)\n",
    "# # model = k.model\n",
    "# g = Game(init_state)\n",
    "# n_steps = 500\n",
    "# for _ in range(n_steps):\n",
    "#     X = []\n",
    "#     y = []\n",
    "#     train(g)\n",
    "#     gc.collect()\n",
    "#     del X, y"
   ]
  },
  {
   "cell_type": "code",
   "execution_count": 12,
   "metadata": {
    "scrolled": false
   },
   "outputs": [],
   "source": [
    "def play(game, m1, m2):\n",
    "    global score\n",
    "    while 1:\n",
    "        a1 = m1.action(game)\n",
    "        game = game.update(a1)\n",
    "        if game.is_win(m1.status):\n",
    "            score[m1.status-1] += 1\n",
    "            return \n",
    "        elif game.is_draw(m1.status):\n",
    "            score[2] += 1\n",
    "            return \n",
    "\n",
    "        a2 = m2.action(game)\n",
    "        game = game.update(a2)\n",
    "        if game.is_win(m2.status):\n",
    "            score[m2.status-1] += 1\n",
    "            return \n",
    "        elif game.is_draw(m2.status):\n",
    "            score[2] += 1\n",
    "            return \n",
    "        "
   ]
  },
  {
   "cell_type": "code",
   "execution_count": 14,
   "metadata": {},
   "outputs": [
    {
     "data": {
      "text/plain": [
       "1"
      ]
     },
     "execution_count": 14,
     "metadata": {},
     "output_type": "execute_result"
    }
   ],
   "source": [
    "dd.status"
   ]
  },
  {
   "cell_type": "code",
   "execution_count": 43,
   "metadata": {
    "scrolled": true
   },
   "outputs": [
    {
     "name": "stdout",
     "output_type": "stream",
     "text": [
      "0\n",
      "1\n",
      "2\n",
      "3\n",
      "4\n",
      "5\n",
      "6\n",
      "7\n",
      "8\n",
      "9\n",
      "10\n",
      "11\n",
      "12\n",
      "13\n",
      "14\n",
      "15\n",
      "16\n",
      "17\n",
      "18\n",
      "19\n",
      "20\n",
      "21\n",
      "22\n",
      "23\n",
      "24\n",
      "25\n",
      "26\n",
      "27\n",
      "28\n",
      "29\n",
      "30\n",
      "31\n",
      "32\n",
      "33\n",
      "34\n",
      "35\n",
      "36\n",
      "37\n",
      "38\n",
      "39\n",
      "40\n",
      "41\n",
      "42\n",
      "43\n",
      "44\n",
      "45\n",
      "46\n",
      "47\n",
      "48\n",
      "49\n",
      "50\n",
      "51\n",
      "52\n",
      "53\n",
      "54\n",
      "55\n",
      "56\n",
      "57\n",
      "58\n",
      "59\n",
      "60\n",
      "61\n",
      "62\n",
      "63\n",
      "64\n",
      "65\n",
      "66\n",
      "67\n",
      "68\n",
      "69\n",
      "70\n",
      "71\n",
      "72\n",
      "73\n",
      "74\n",
      "75\n",
      "76\n",
      "77\n",
      "78\n",
      "79\n",
      "80\n",
      "81\n",
      "82\n",
      "83\n",
      "84\n",
      "85\n",
      "86\n",
      "87\n",
      "88\n",
      "89\n",
      "90\n",
      "91\n",
      "92\n",
      "93\n",
      "94\n",
      "95\n",
      "96\n",
      "97\n",
      "98\n",
      "99\n",
      "0\n",
      "1\n",
      "2\n",
      "3\n",
      "4\n",
      "5\n",
      "6\n",
      "7\n",
      "8\n",
      "9\n",
      "10\n",
      "11\n",
      "12\n",
      "13\n",
      "14\n",
      "15\n",
      "16\n",
      "17\n",
      "18\n",
      "19\n",
      "20\n",
      "21\n",
      "22\n",
      "23\n",
      "24\n",
      "25\n",
      "26\n",
      "27\n",
      "28\n",
      "29\n",
      "30\n",
      "31\n",
      "32\n",
      "33\n",
      "34\n",
      "35\n",
      "36\n",
      "37\n",
      "38\n",
      "39\n",
      "40\n",
      "41\n",
      "42\n",
      "43\n",
      "44\n",
      "45\n",
      "46\n",
      "47\n",
      "48\n",
      "49\n",
      "50\n",
      "51\n",
      "52\n",
      "53\n",
      "54\n",
      "55\n",
      "56\n",
      "57\n",
      "58\n",
      "59\n",
      "60\n",
      "61\n",
      "62\n",
      "63\n",
      "64\n",
      "65\n",
      "66\n",
      "67\n",
      "68\n",
      "69\n",
      "70\n",
      "71\n",
      "72\n",
      "73\n",
      "74\n",
      "75\n",
      "76\n",
      "77\n",
      "78\n",
      "79\n",
      "80\n",
      "81\n",
      "82\n",
      "83\n",
      "84\n",
      "85\n",
      "86\n",
      "87\n",
      "88\n",
      "89\n",
      "90\n",
      "91\n",
      "92\n",
      "93\n",
      "94\n",
      "95\n",
      "96\n",
      "97\n",
      "98\n",
      "99\n",
      "Wall time: 1.39 s\n"
     ]
    }
   ],
   "source": [
    "%%time\n",
    "\n",
    "m1 = Random(2)\n",
    "score = [0, 0, 0]\n",
    "\n",
    "game = Game(init_state, 1)\n",
    "for _ in range(100):\n",
    "    print(_)\n",
    "    play(game, dd, m1)\n",
    "    \n",
    "gc.collect()\n",
    "\n",
    "game = Game(init_state, 2)\n",
    "score1 = score.copy()\n",
    "for _ in range(100):\n",
    "    print(_)\n",
    "    play(game, m1, dd)"
   ]
  },
  {
   "cell_type": "code",
   "execution_count": 44,
   "metadata": {},
   "outputs": [
    {
     "data": {
      "text/plain": [
       "[100, 45, 55]"
      ]
     },
     "execution_count": 44,
     "metadata": {},
     "output_type": "execute_result"
    }
   ],
   "source": [
    "score"
   ]
  },
  {
   "cell_type": "code",
   "execution_count": 45,
   "metadata": {},
   "outputs": [
    {
     "data": {
      "text/plain": [
       "[60, 11, 29]"
      ]
     },
     "execution_count": 45,
     "metadata": {},
     "output_type": "execute_result"
    }
   ],
   "source": [
    "score1"
   ]
  },
  {
   "cell_type": "code",
   "execution_count": 46,
   "metadata": {},
   "outputs": [
    {
     "data": {
      "text/plain": [
       "<matplotlib.axes._subplots.AxesSubplot at 0x1fca107a608>"
      ]
     },
     "execution_count": 46,
     "metadata": {},
     "output_type": "execute_result"
    },
    {
     "data": {
      "image/png": "[encoded data removed]",
      "text/plain": [
       "<Figure size 432x288 with 1 Axes>"
      ]
     },
     "metadata": {
      "needs_background": "light"
     },
     "output_type": "display_data"
    }
   ],
   "source": [
    "sns.barplot(x = [1, 2], y = score[:2])"
   ]
  },
  {
   "cell_type": "code",
   "execution_count": null,
   "metadata": {},
   "outputs": [],
   "source": [
    "# tanh + mse\n",
    "# v1: 732vs601 // 350vs323\n",
    "# v2: 738vs399 // 411vs149\n",
    "# v3: 1161vs773 // 791vs170\n",
    "# v4: 1305vs567 // 832vs86"
   ]
  },
  {
   "cell_type": "code",
   "execution_count": 25,
   "metadata": {},
   "outputs": [
    {
     "data": {
      "text/plain": [
       "array([[2.3473647e-11, 9.8615474e-01, 1.0090507e-02, 1.7726414e-03,\n",
       "        3.9066803e-09, 4.5363063e-06, 1.9776151e-03, 1.2000709e-09,\n",
       "        2.7990125e-12]], dtype=float32)"
      ]
     },
     "execution_count": 25,
     "metadata": {},
     "output_type": "execute_result"
    }
   ],
   "source": [
    "state = np.reshape(game.state, (1, 9))\n",
    "state = np.where(state==game.next_opp(), 1, np.where(state==0, 0, -1))\n",
    "dd.model.predict(state)"
   ]
  },
  {
   "cell_type": "code",
   "execution_count": 26,
   "metadata": {},
   "outputs": [
    {
     "ename": "NameError",
     "evalue": "name 'g' is not defined",
     "output_type": "error",
     "traceback": [
      "\u001b[1;31m---------------------------------------------------------------------------\u001b[0m",
      "\u001b[1;31mNameError\u001b[0m                                 Traceback (most recent call last)",
      "\u001b[1;32m<ipython-input-26-262577657239>\u001b[0m in \u001b[0;36m<module>\u001b[1;34m\u001b[0m\n\u001b[1;32m----> 1\u001b[1;33m \u001b[0mdd\u001b[0m\u001b[1;33m.\u001b[0m\u001b[0mmake_state\u001b[0m\u001b[1;33m(\u001b[0m\u001b[0mg\u001b[0m\u001b[1;33m)\u001b[0m\u001b[1;33m\u001b[0m\u001b[1;33m\u001b[0m\u001b[0m\n\u001b[0m",
      "\u001b[1;31mNameError\u001b[0m: name 'g' is not defined"
     ]
    }
   ],
   "source": [
    "dd.make_state(g)"
   ]
  },
  {
   "cell_type": "code",
   "execution_count": 27,
   "metadata": {},
   "outputs": [
    {
     "name": "stdout",
     "output_type": "stream",
     "text": [
      "[[0 0 0]\n",
      " [0 2 0]\n",
      " [0 0 0]]\n"
     ]
    }
   ],
   "source": [
    "g = game.update(4)\n",
    "print(g.state)"
   ]
  },
  {
   "cell_type": "code",
   "execution_count": null,
   "metadata": {},
   "outputs": [],
   "source": [
    "g = g.update(2)"
   ]
  },
  {
   "cell_type": "code",
   "execution_count": null,
   "metadata": {},
   "outputs": [],
   "source": [
    "\n",
    "g.state"
   ]
  },
  {
   "cell_type": "code",
   "execution_count": null,
   "metadata": {},
   "outputs": [],
   "source": []
  }
 ],
 "metadata": {
  "kernelspec": {
   "display_name": "Python 3",
   "language": "python",
   "name": "python3"
  },
  "language_info": {
   "codemirror_mode": {
    "name": "ipython",
    "version": 3
   },
   "file_extension": ".py",
   "mimetype": "text/x-python",
   "name": "python",
   "nbconvert_exporter": "python",
   "pygments_lexer": "ipython3",
   "version": "3.7.4"
  },
  "toc": {
   "base_numbering": 1,
   "nav_menu": {},
   "number_sections": true,
   "sideBar": true,
   "skip_h1_title": false,
   "title_cell": "Table of Contents",
   "title_sidebar": "Contents",
   "toc_cell": false,
   "toc_position": {},
   "toc_section_display": true,
   "toc_window_display": false
  }
 },
 "nbformat": 4,
 "nbformat_minor": 2
}
