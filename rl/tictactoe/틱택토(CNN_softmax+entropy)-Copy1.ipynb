{
 "cells": [
  {
   "cell_type": "code",
   "execution_count": null,
   "metadata": {},
   "outputs": [],
   "source": []
  },
  {
   "cell_type": "code",
   "execution_count": 1,
   "metadata": {},
   "outputs": [
    {
     "name": "stderr",
     "output_type": "stream",
     "text": [
      "Using TensorFlow backend.\n"
     ]
    }
   ],
   "source": [
    "import numpy as np\n",
    "import seaborn as sns\n",
    "from time import time\n",
    "\n",
    "import tensorflow as tf\n",
    "from tensorflow import keras\n",
    "from keras import layers, models\n",
    "from keras.regularizers import L1L2\n",
    "import keras.backend as K\n",
    "\n",
    "import os\n",
    "import gc\n",
    "from pathlib import Path\n",
    "\n",
    "tf.config.experimental.set_visible_devices([], 'GPU')"
   ]
  },
  {
   "cell_type": "code",
   "execution_count": 2,
   "metadata": {},
   "outputs": [],
   "source": [
    "from tensorflow.keras.losses import Huber"
   ]
  },
  {
   "cell_type": "code",
   "execution_count": 3,
   "metadata": {},
   "outputs": [],
   "source": [
    "init_state = np.array([\n",
    "    [0, 0, 0],\n",
    "    [0, 0, 0],\n",
    "    [0, 0, 0]\n",
    "])"
   ]
  },
  {
   "cell_type": "code",
   "execution_count": 4,
   "metadata": {},
   "outputs": [],
   "source": [
    "class Game:\n",
    "    def __init__(self, state, FIRST=1):\n",
    "        self.state = state\n",
    "        self.empty = self.make_empty(state)\n",
    "        self.first_player = FIRST\n",
    "        \n",
    "    def make_empty(self, state):\n",
    "        emp = []\n",
    "        for i in range(3):\n",
    "            for j in range(3):\n",
    "                if state[i][j] == 0:\n",
    "                    emp.append(3*i + j)\n",
    "        return emp\n",
    "    \n",
    "    def is_lose(self):\n",
    "        a = self.next_opp()\n",
    "        \n",
    "        for i in range(3):\n",
    "            if self.state[i][0] == self.state[i][1] == self.state[i][2] == a:\n",
    "                return True\n",
    "            elif self.state[0][i] == self.state[1][i] == self.state[2][i] == a:\n",
    "                return True\n",
    "        if self.state[0][0] == self.state[1][1] == self.state[2][2] == a:\n",
    "            return True\n",
    "        if self.state[0][2] == self.state[1][1] == self.state[2][0] == a:\n",
    "            return True\n",
    "        return 0\n",
    "    \n",
    "    def is_draw(self):\n",
    "        a = self.next_opp()\n",
    "        if self.is_lose():\n",
    "            return 0\n",
    "        if np.all(self.state):\n",
    "            return 1\n",
    "        else:\n",
    "            return 0\n",
    "        \n",
    "    def is_done(self):\n",
    "        if self.is_lose() or self.is_draw():\n",
    "            return 1\n",
    "        else:\n",
    "            return 0\n",
    "        \n",
    "        \n",
    "    def update(self, target):\n",
    "        state = self.state.copy()\n",
    "        x, y = target//3, target%3\n",
    "        a = self.next_opp()\n",
    "        state[x][y] = a\n",
    "        return Game(state)\n",
    "    \n",
    "    \n",
    "    def next_opp(self):\n",
    "        a = b = 0\n",
    "        for i in range(len(self.state)):\n",
    "            for j in range(len(self.state)):\n",
    "                if self.state[i][j] == self.first_player:\n",
    "                    a += 1\n",
    "                elif self.state[i][j] != 0:\n",
    "                    b += 1\n",
    "                    \n",
    "        if a == b:\n",
    "            return self.first_player\n",
    "        else:\n",
    "            return 2 + min(0, 1-self.first_player)"
   ]
  },
  {
   "cell_type": "code",
   "execution_count": 5,
   "metadata": {},
   "outputs": [],
   "source": [
    "class Random:\n",
    "    def action(self, game):\n",
    "        return np.random.choice(game.empty)"
   ]
  },
  {
   "cell_type": "code",
   "execution_count": 6,
   "metadata": {},
   "outputs": [],
   "source": [
    "def playout(game):\n",
    "    if game.is_lose():\n",
    "        return -1\n",
    "\n",
    "    if game.is_draw():\n",
    "        return 0\n",
    "\n",
    "    return -playout(game.update(np.random.choice(game.empty)))\n",
    "\n",
    "\n",
    "def action(game):\n",
    "    n_steps=100\n",
    "    values = [0] * 9\n",
    "    for i in range(9):\n",
    "        if i in game.empty:\n",
    "            for _ in range(n_steps):\n",
    "                g = game.update(i)\n",
    "                values[i] += playout(g)\n",
    "            \n",
    "    for i in range(9):\n",
    "        values[i] /= n_steps\n",
    "        \n",
    "    return values"
   ]
  },
  {
   "cell_type": "code",
   "execution_count": 20,
   "metadata": {},
   "outputs": [],
   "source": [
    "DN_FILTERS = 128  # 컨볼루션 레이어 커널 수(오리지널 256）\n",
    "DN_RESIDUAL_NUM = 16  # 레지듀얼 블록 수(오리지널 19)\n",
    "DN_INPUT_SHAPE = (3, 3, 2)  # 입력 셰이프\n",
    "DN_OUTPUT_SIZE = 9  # 행동 수(배치 수(3*3))\n",
    "    \n",
    "def residual_block():\n",
    "    def f(x):\n",
    "        sc = x\n",
    "        x = layers.Conv2D(DN_FILTERS, 3, padding='same', use_bias=False,\n",
    "              kernel_initializer='he_normal', kernel_regularizer=L1L2(l2=0.0005))(x)\n",
    "        x = layers.BatchNormalization()(x)\n",
    "        x = layers.Activation('relu')(x)\n",
    "        x = layers.Conv2D(DN_FILTERS, 3, padding='same', use_bias=False,\n",
    "              kernel_initializer='he_normal', kernel_regularizer=L1L2(l2=0.0005))(x)\n",
    "        x = layers.BatchNormalization()(x)\n",
    "        x = layers.Add()([x, sc])\n",
    "        x = layers.Activation('relu')(x)\n",
    "        return x\n",
    "\n",
    "    return f\n",
    "    \n",
    "def dual_network():\n",
    "    # 모델 생성이 완료된 경우 처리하지 않음\n",
    "#     if os.path.exists('./model/best.h5'):\n",
    "#         return\n",
    "\n",
    "    # 입력 레이어\n",
    "    input = layers.Input(shape=DN_INPUT_SHAPE)\n",
    "\n",
    "    # 컨볼루션 레이어\n",
    "    x = layers.Conv2D(DN_FILTERS, 3, padding='same', use_bias=False,\n",
    "              kernel_initializer='he_normal', kernel_regularizer=L1L2(l2=0.0005))(input)\n",
    "    x = layers.BatchNormalization()(x)\n",
    "    x = layers.Activation('relu')(x)\n",
    "\n",
    "    # 레지듀얼 블록 x 16\n",
    "    for i in range(DN_RESIDUAL_NUM):\n",
    "        x = residual_block()(x)\n",
    "\n",
    "    # 풀링 레이어\n",
    "    x = layers.GlobalAveragePooling2D()(x)\n",
    "    \n",
    "#     x = layers.Dense(32, activation='relu', kernel_regularizer=L1L2(l2 = 0.0001), kernel_initializer='he_normal')(x)\n",
    "\n",
    "    # policy 출력\n",
    "    p = layers.Dense(DN_OUTPUT_SIZE, kernel_regularizer=L1L2(l2=0.0005),\n",
    "              activation='tanh', name='pi')(x)\n",
    "\n",
    "    # value 출력\n",
    "#     v = layers.Dense(1, kernel_regularizer=L1L2(l2=0.0005))(x)\n",
    "#     v = layers.Activation('tanh', name='v')(v)\n",
    "\n",
    "    # 모델 생성\n",
    "    model = models.Model(inputs=input, outputs=p)\n",
    "\n",
    "    model.compile(optimizer = 'adam',\n",
    "                 loss = 'logcosh')\n",
    "\n",
    "    return model\n",
    "\n",
    "class CNN:\n",
    "    def __init__(self):\n",
    "        K.clear_session()\n",
    "        self.model = dual_network()\n",
    "        \n",
    "    def action(self, game):\n",
    "        res = self.predict(game)\n",
    "        a = np.argmax(res)\n",
    "        a = game.empty[a]\n",
    "\n",
    "        return a\n",
    "\n",
    "    def train(self, n=100):\n",
    "        for _ in range(n):\n",
    "            for i in [1, 2]:\n",
    "                X = []\n",
    "                y = []\n",
    "                game = Game(init_state)\n",
    "\n",
    "                while 1:\n",
    "                    status = game.next_opp()\n",
    "                    state = self.make_state(game)\n",
    "                    values = action(game)\n",
    "                    a = np.argmax(values)\n",
    "                    if a not in game.empty:\n",
    "                        v = values.copy()\n",
    "                        while a not in game.empty:\n",
    "                            v[a] = -float('inf')\n",
    "                            a = np.argmax(v)\n",
    "                            \n",
    "                    X.append(state)\n",
    "                    y.append(values)\n",
    "                        \n",
    "                    game = game.update(a)           \n",
    "                                        \n",
    "                    if game.is_done():\n",
    "                        break\n",
    "                        \n",
    "                X = np.array(X)\n",
    "                X = X.reshape(len(X), 3, 3, 2)\n",
    "                y = np.reshape(y, (len(y), 9))   \n",
    "                self.model.fit(X, y, verbose=0)\n",
    "                \n",
    "                \n",
    "    def b_train(self, n=100):\n",
    "        for _ in range(n):\n",
    "            X = []\n",
    "            y = []\n",
    "            game = Game(init_state)\n",
    "\n",
    "            while 1:\n",
    "                status = game.next_opp()\n",
    "                state = self.make_state(game)\n",
    "                values = self.model.predict(state)[0]\n",
    "                a = np.argmax(values)\n",
    "                if a not in game.empty:\n",
    "                    v = values.copy()\n",
    "                    while a not in game.empty:\n",
    "                        v[a] = -float('inf')\n",
    "                        a = np.argmax(v)\n",
    "\n",
    "                game = game.update(a)        \n",
    "                \n",
    "                state_next = self.make_state(game)\n",
    "                if game.is_lose():\n",
    "                    r = 1\n",
    "                else:\n",
    "                    r = 0\n",
    "                    \n",
    "                values[a] += 0.1 * (r - 0.95*np.max(action(game)))\n",
    "\n",
    "                X.append(state)\n",
    "                y.append(values)\n",
    "\n",
    "                if game.is_done():\n",
    "                    break\n",
    "                    \n",
    "\n",
    "            X = np.array(X)\n",
    "            X = X.reshape(len(X), 3, 3, 2)\n",
    "            y = np.reshape(y, (len(y), 9))   \n",
    "            self.model.fit(X, y, verbose=0)\n",
    "        \n",
    "    def make_state(self, game):\n",
    "        status = game.next_opp()\n",
    "        opp = 3 - status\n",
    "        a = game.state\n",
    "        a1 = np.where(a==status, 1, 0)\n",
    "        a2 = np.where(a==opp, 1, 0)\n",
    "        res = np.array([a1, a2])\n",
    "        res = res.reshape(2, 3, 3).transpose(1, 2, 0).reshape(1, 3, 3, 2)\n",
    "        \n",
    "        return res\n",
    "    \n",
    "    def predict(self, game):\n",
    "        state = self.make_state(game)\n",
    "        \n",
    "        res = self.model.predict(state)[0]\n",
    "        \n",
    "        res = res[game.empty]\n",
    "        \n",
    "        return res \n"
   ]
  },
  {
   "cell_type": "code",
   "execution_count": 21,
   "metadata": {},
   "outputs": [
    {
     "data": {
      "text/plain": [
       "1828199"
      ]
     },
     "execution_count": 21,
     "metadata": {},
     "output_type": "execute_result"
    }
   ],
   "source": [
    "dd = CNN()\n",
    "gc.collect()"
   ]
  },
  {
   "cell_type": "code",
   "execution_count": 22,
   "metadata": {
    "scrolled": true
   },
   "outputs": [
    {
     "data": {
      "text/plain": [
       "492"
      ]
     },
     "execution_count": 22,
     "metadata": {},
     "output_type": "execute_result"
    }
   ],
   "source": [
    "dd.train(200)\n",
    "gc.collect()"
   ]
  },
  {
   "cell_type": "code",
   "execution_count": null,
   "metadata": {
    "scrolled": true
   },
   "outputs": [],
   "source": [
    "# for _ in range(100):\n",
    "#     print(_)\n",
    "#     dd.train()"
   ]
  },
  {
   "cell_type": "code",
   "execution_count": 23,
   "metadata": {},
   "outputs": [
    {
     "data": {
      "text/plain": [
       "[0.0, 0.45, 0.25, 0.0, 0.51, 0.01, -0.03, -0.03, 0.27]"
      ]
     },
     "execution_count": 23,
     "metadata": {},
     "output_type": "execute_result"
    }
   ],
   "source": [
    "g = Game(np.array([\n",
    "    [1, 0, 0],\n",
    "    [2, 0, 0],\n",
    "    [0, 0, 0]\n",
    "]))\n",
    "\n",
    "action(g)"
   ]
  },
  {
   "cell_type": "code",
   "execution_count": 24,
   "metadata": {},
   "outputs": [
    {
     "data": {
      "text/plain": [
       "array([-0.9995206 , -0.82600325,  0.97238046, -0.99990404, -0.1664385 ,\n",
       "       -1.        , -0.9835813 ], dtype=float32)"
      ]
     },
     "execution_count": 24,
     "metadata": {},
     "output_type": "execute_result"
    }
   ],
   "source": [
    "dd.predict(g)"
   ]
  },
  {
   "cell_type": "code",
   "execution_count": 25,
   "metadata": {},
   "outputs": [
    {
     "data": {
      "text/plain": [
       "4"
      ]
     },
     "execution_count": 25,
     "metadata": {},
     "output_type": "execute_result"
    }
   ],
   "source": [
    "dd.action(g)"
   ]
  },
  {
   "cell_type": "code",
   "execution_count": null,
   "metadata": {},
   "outputs": [],
   "source": [
    "g.empty"
   ]
  },
  {
   "cell_type": "code",
   "execution_count": null,
   "metadata": {},
   "outputs": [],
   "source": []
  },
  {
   "cell_type": "code",
   "execution_count": 14,
   "metadata": {
    "scrolled": false
   },
   "outputs": [],
   "source": [
    "def play(game, m1, m2):\n",
    "    global score\n",
    "    while 1:\n",
    "        a1 = m1.action(game)\n",
    "        game = game.update(a1)\n",
    "#         print(game.state)\n",
    "        if game.is_lose():\n",
    "            score[0] += 1\n",
    "#             print(game.state)\n",
    "            return \n",
    "        elif game.is_draw():\n",
    "            score[2] += 1\n",
    "#             print(game.state)\n",
    "            return \n",
    "\n",
    "        a2 = m2.action(game)\n",
    "        game = game.update(a2)\n",
    "#         print(game.state)\n",
    "        if game.is_lose():\n",
    "            score[1] += 1\n",
    "#             print(game.state)\n",
    "            return \n",
    "        elif game.is_draw():\n",
    "            score[2] += 1\n",
    "#             print(game.state)\n",
    "            return \n",
    "        "
   ]
  },
  {
   "cell_type": "code",
   "execution_count": 15,
   "metadata": {},
   "outputs": [],
   "source": [
    "game = Game(init_state)\n",
    "m1 = Random()\n",
    "# d = DQN(1)"
   ]
  },
  {
   "cell_type": "code",
   "execution_count": 26,
   "metadata": {
    "scrolled": true
   },
   "outputs": [
    {
     "name": "stdout",
     "output_type": "stream",
     "text": [
      "[57, 27, 16]\n",
      "[19, 69, 12]\n",
      "Wall time: 32.5 s\n"
     ]
    }
   ],
   "source": [
    "%%time\n",
    "score = [0, 0, 0]\n",
    "for _ in range(100):\n",
    "#     print(_)\n",
    "    play(game, m1, dd)\n",
    "print(score)\n",
    "gc.collect()\n",
    "\n",
    "score = [0, 0, 0]\n",
    "for _ in range(100):\n",
    "#     print(_)\n",
    "    play(game, dd, m1)\n",
    "print(score)"
   ]
  },
  {
   "cell_type": "code",
   "execution_count": null,
   "metadata": {},
   "outputs": [],
   "source": [
    "# sns.barplot(x = [1, 2], y = score[:2])"
   ]
  },
  {
   "cell_type": "code",
   "execution_count": null,
   "metadata": {},
   "outputs": [],
   "source": [
    "# v1: 61vs21 // 12vs81\n"
   ]
  },
  {
   "cell_type": "code",
   "execution_count": 17,
   "metadata": {},
   "outputs": [],
   "source": [
    "dd.model.save('./btanh.h5')"
   ]
  },
  {
   "cell_type": "code",
   "execution_count": null,
   "metadata": {},
   "outputs": [],
   "source": []
  }
 ],
 "metadata": {
  "kernelspec": {
   "display_name": "Python 3",
   "language": "python",
   "name": "python3"
  },
  "language_info": {
   "codemirror_mode": {
    "name": "ipython",
    "version": 3
   },
   "file_extension": ".py",
   "mimetype": "text/x-python",
   "name": "python",
   "nbconvert_exporter": "python",
   "pygments_lexer": "ipython3",
   "version": "3.7.4"
  },
  "toc": {
   "base_numbering": 1,
   "nav_menu": {},
   "number_sections": true,
   "sideBar": true,
   "skip_h1_title": false,
   "title_cell": "Table of Contents",
   "title_sidebar": "Contents",
   "toc_cell": false,
   "toc_position": {},
   "toc_section_display": true,
   "toc_window_display": false
  }
 },
 "nbformat": 4,
 "nbformat_minor": 2
}
