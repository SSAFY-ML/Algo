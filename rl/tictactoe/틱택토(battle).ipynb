{
 "cells": [
  {
   "cell_type": "code",
   "execution_count": 1,
   "metadata": {},
   "outputs": [
    {
     "name": "stderr",
     "output_type": "stream",
     "text": [
      "Using TensorFlow backend.\n"
     ]
    }
   ],
   "source": [
    "import numpy as np\n",
    "import tensorflow as tf\n",
    "from keras import layers, models\n",
    "import keras.backend as K\n",
    "\n",
    "import seaborn as sns\n",
    "from time import time\n",
    "import gc\n",
    "\n",
    "tf.config.experimental.set_visible_devices([], 'GPU')"
   ]
  },
  {
   "cell_type": "code",
   "execution_count": 2,
   "metadata": {},
   "outputs": [],
   "source": [
    "init_state = np.array([\n",
    "    [0, 0, 0],\n",
    "    [0, 0, 0],\n",
    "    [0, 0, 0]\n",
    "])"
   ]
  },
  {
   "cell_type": "code",
   "execution_count": 3,
   "metadata": {},
   "outputs": [],
   "source": [
    "class Game:\n",
    "    def __init__(self, state, FIRST):\n",
    "        self.state = state\n",
    "        self.empty = self.make_empty(state)\n",
    "        self.first_player = FIRST\n",
    "        \n",
    "    def make_empty(self, state):\n",
    "        emp = []\n",
    "        for i in range(3):\n",
    "            for j in range(3):\n",
    "                if state[i][j] == 0:\n",
    "                    emp.append(3*i + j)\n",
    "        \n",
    "        return emp\n",
    "    \n",
    "    def is_lose(self, a):\n",
    "        opp = 2 - (a-1)\n",
    "        \n",
    "        for i in range(3):\n",
    "            if self.state[i][0] == self.state[i][1] == self.state[i][2] == opp:\n",
    "                return True\n",
    "            elif self.state[0][i] == self.state[1][i] == self.state[2][i] == opp:\n",
    "                return True\n",
    "        if self.state[0][0] == self.state[1][1] == self.state[2][2] == opp:\n",
    "            return True\n",
    "        if self.state[0][2] == self.state[1][1] == self.state[2][0] == opp:\n",
    "            return True\n",
    "        return 0\n",
    "    \n",
    "    def is_win(self, a):       \n",
    "        for i in range(3):\n",
    "            if self.state[i][0] == self.state[i][1] == self.state[i][2] == a:\n",
    "                return True\n",
    "            elif self.state[0][i] == self.state[1][i] == self.state[2][i] == a:\n",
    "                return True\n",
    "        if self.state[0][0] == self.state[1][1] == self.state[2][2] == a:\n",
    "            return True\n",
    "        if self.state[0][2] == self.state[1][1] == self.state[2][0] == a:\n",
    "            return True\n",
    "        return False\n",
    "    \n",
    "    def is_draw(self, a):\n",
    "        if self.is_win(a):\n",
    "            return 0\n",
    "        if np.all(self.state):\n",
    "            return 1\n",
    "        else:\n",
    "            return 0\n",
    "        \n",
    "    def is_done(self):\n",
    "        if self.is_win(1) or self.is_win(2) or self.is_draw(1) or self.is_draw(2):\n",
    "            return 1\n",
    "        else:\n",
    "            return 0\n",
    "        \n",
    "        \n",
    "    def update(self, target):\n",
    "        state = self.state.copy()\n",
    "        x, y = target//3, target%3\n",
    "        a = self.next_opp()\n",
    "        state[x][y] = a\n",
    "        return Game(state, self.first_player)\n",
    "    \n",
    "    \n",
    "    def next_opp(self):\n",
    "        a = b = 0\n",
    "        for i in range(len(self.state)):\n",
    "            for j in range(len(self.state)):\n",
    "                if self.state[i][j] == self.first_player:\n",
    "                    a += 1\n",
    "                elif self.state[i][j] != 0:\n",
    "                    b += 1\n",
    "                    \n",
    "        if a == b:\n",
    "            return self.first_player\n",
    "        else:\n",
    "            return 2 + min(0, 1-self.first_player)"
   ]
  },
  {
   "cell_type": "code",
   "execution_count": 4,
   "metadata": {},
   "outputs": [],
   "source": [
    "class Alpha:\n",
    "    def __init__(self, status):\n",
    "        self.status = status\n",
    "\n",
    "    def value(self, game, alpha, beta):\n",
    "#         print(game.state)\n",
    "        if game.is_lose(self.status):\n",
    "            return -1\n",
    "        \n",
    "        if game.is_draw(self.status):\n",
    "            return 0\n",
    "        \n",
    "        if game.is_win(self.status):\n",
    "#             print(game.state)\n",
    "            return 1\n",
    "        \n",
    "        \n",
    "        best_score = -float('inf')\n",
    "        score = 0\n",
    "        for a in game.empty:\n",
    "            score += self.value(game.update(a), beta, alpha)\n",
    "            \n",
    "            if score > alpha:\n",
    "                alpha = score\n",
    "#                 print(score)\n",
    "\n",
    "            if alpha >= beta:\n",
    "                return alpha\n",
    "                \n",
    "        return alpha\n",
    "        \n",
    "    def action(self, game):\n",
    "#         if FIRST == self.status and len(game.empty) == 9:\n",
    "#             return 4\n",
    "        \n",
    "        alpha = -float('inf')\n",
    "        \n",
    "        for a in game.empty:\n",
    "            score = self.value(game.update(a), -float('inf'), alpha)\n",
    "            if score > alpha:\n",
    "                best_action = a\n",
    "                alpha = score\n",
    "#                 print(best_action)\n",
    "        return best_action\n",
    "\n",
    "    "
   ]
  },
  {
   "cell_type": "code",
   "execution_count": 5,
   "metadata": {},
   "outputs": [],
   "source": [
    "class MCS:\n",
    "    def __init__(self, status, n=20):\n",
    "        self.status = status\n",
    "        self.n = n\n",
    "    \n",
    "    def playout(self, game):\n",
    "#         print(game.state)\n",
    "        if game.is_lose(self.status):\n",
    "            return -1\n",
    "        \n",
    "        if game.is_draw(self.status):\n",
    "            return 0\n",
    "        \n",
    "        \n",
    "        if game.is_win(self.status):\n",
    "            return 1\n",
    "        \n",
    "        return self.playout(game.update(np.random.choice(game.empty)))\n",
    "    \n",
    "    \n",
    "    def action(self, game):\n",
    "        values = [0] * len(game.empty)\n",
    "\n",
    "        for i, a in enumerate(game.empty):\n",
    "            for _ in range(self.n):\n",
    "                g = game.update(a)\n",
    "                values[i] += self.playout(g)\n",
    "                \n",
    "        return game.empty[np.argmax(values)]\n",
    "    \n",
    "    def make_opp(self):\n",
    "        if self.count % 2 == 0:\n",
    "            return self.status\n",
    "        else:\n",
    "            return 2 + min(0, 1-self.status)\n",
    "                "
   ]
  },
  {
   "cell_type": "code",
   "execution_count": 6,
   "metadata": {},
   "outputs": [],
   "source": [
    "class AlphaBeta:\n",
    "    def __init__(self, status):\n",
    "        self.status = status\n",
    "\n",
    "    def value(self, game, alpha, beta):\n",
    "        if game.is_lose(self.status):\n",
    "            return -1\n",
    "        \n",
    "        if game.is_draw(self.status):\n",
    "            return 0\n",
    "        \n",
    "        if game.is_win(self.status):\n",
    "            return 1\n",
    "        \n",
    "        \n",
    "        best_score = -float('inf')\n",
    "        score = 0\n",
    "        for a in game.empty:\n",
    "            score += self.value(game.update(a), beta, alpha)\n",
    "            \n",
    "            if score > alpha:\n",
    "                alpha = score\n",
    "\n",
    "            if alpha >= beta:\n",
    "                return alpha\n",
    "                \n",
    "        return alpha\n",
    "        \n",
    "    def action(self, game):\n",
    "        alpha = -float('inf')\n",
    "        \n",
    "        for a in game.empty:\n",
    "            score = self.value(game.update(a), -float('inf'), alpha)\n",
    "            if score > alpha:\n",
    "                best_action = a\n",
    "                alpha = score\n",
    "        return best_action\n",
    "\n",
    "    "
   ]
  },
  {
   "cell_type": "code",
   "execution_count": 7,
   "metadata": {},
   "outputs": [],
   "source": [
    "class DQN:\n",
    "    def __init__(self, status):\n",
    "        K.clear_session()\n",
    "            \n",
    "        self.model = models.load_model('./tanh2.h5')\n",
    "        self.status = status\n",
    "        \n",
    "    def action(self, game):\n",
    "        status = game.next_opp()\n",
    "        target = np.reshape(game.state, (1, 1, 3, 3)).astype('float')\n",
    "        target = np.where(target==status, 1., np.where(target==0, 0, -1.))\n",
    "        res = self.model.predict(target)[0]\n",
    "        a = np.argmax(res)\n",
    "        while a not in game.empty:\n",
    "            res[a] = -float('inf')\n",
    "            a = np.argmax(res)\n",
    "        return a\n",
    "    \n",
    "    \n",
    "    def value(self, game):\n",
    "        values = [0] * 9\n",
    "        n_steps = 100\n",
    "\n",
    "        for i in range(9):\n",
    "            if i in game.empty:\n",
    "                for _ in range(n_steps):\n",
    "                    g = game.update(i)\n",
    "                    values[i] += playout(g)\n",
    "            values[i] /= n_steps\n",
    "            \n",
    "        return values\n",
    "\n",
    "    def train(self):\n",
    "        for i in [1, 2]:\n",
    "            game = Game(init_state, i)\n",
    "            X = []\n",
    "            y = []\n",
    "            while 1:\n",
    "                status = game.next_opp()\n",
    "                state = np.reshape(game.state, (1, 1, 3, 3)).astype('float')\n",
    "                state = np.where(state==status, 1., np.where(state==0, 0, -1.))\n",
    "\n",
    "                X.append(state)\n",
    "                y.append(self.value(game))\n",
    "\n",
    "                a = action(game)\n",
    "                game = game.update(a)\n",
    "\n",
    "                if game.is_done():\n",
    "                    break\n",
    "\n",
    "            X = np.reshape(X, (len(X), 1, 3, 3))\n",
    "            y = np.reshape(y, (len(y), 9))   \n",
    "            self.model.fit(X, y, epochs=1, verbose=0)\n",
    "                \n",
    "    \n",
    "    def opp(self, status):\n",
    "        return 2 + min(0, 1-status)"
   ]
  },
  {
   "cell_type": "code",
   "execution_count": 8,
   "metadata": {
    "scrolled": false
   },
   "outputs": [],
   "source": [
    "def play(game, m1, m2):\n",
    "    global score\n",
    "    while 1:\n",
    "        a1 = m1.action(game)\n",
    "        game = game.update(a1)\n",
    "        if game.is_win(m1.status):\n",
    "            score[m1.status-1] += 1\n",
    "            return \n",
    "        elif game.is_draw(m1.status):\n",
    "            score[2] += 1\n",
    "            return \n",
    "\n",
    "        a2 = m2.action(game)\n",
    "        game = game.update(a2)\n",
    "        if game.is_win(m2.status):\n",
    "            score[m2.status-1] += 1\n",
    "            return \n",
    "        elif game.is_draw(m2.status):\n",
    "            score[2] += 1\n",
    "            return \n",
    "        "
   ]
  },
  {
   "cell_type": "code",
   "execution_count": 21,
   "metadata": {},
   "outputs": [],
   "source": [
    "game = Game(init_state, 1)\n",
    "m1 = DQN(1)\n",
    "m2 = MCS(2)"
   ]
  },
  {
   "cell_type": "code",
   "execution_count": 22,
   "metadata": {
    "scrolled": true
   },
   "outputs": [
    {
     "name": "stdout",
     "output_type": "stream",
     "text": [
      "Wall time: 23.2 s\n"
     ]
    }
   ],
   "source": [
    "%%time\n",
    "score = [0, 0, 0]\n",
    "for _ in range(100):\n",
    "    play(game, m1, m2)\n",
    "    \n",
    "gc.collect()\n",
    "\n",
    "game = Game(init_state, 2)\n",
    "score1 = score.copy()\n",
    "for _ in range(100):\n",
    "    play(game, m2, m1)"
   ]
  },
  {
   "cell_type": "code",
   "execution_count": 23,
   "metadata": {},
   "outputs": [
    {
     "data": {
      "text/plain": [
       "[25, 163, 12]"
      ]
     },
     "execution_count": 23,
     "metadata": {},
     "output_type": "execute_result"
    }
   ],
   "source": [
    "score"
   ]
  },
  {
   "cell_type": "code",
   "execution_count": 24,
   "metadata": {},
   "outputs": [
    {
     "data": {
      "text/plain": [
       "[25, 65, 10]"
      ]
     },
     "execution_count": 24,
     "metadata": {},
     "output_type": "execute_result"
    }
   ],
   "source": [
    "score1"
   ]
  },
  {
   "cell_type": "code",
   "execution_count": null,
   "metadata": {},
   "outputs": [],
   "source": [
    "sns.barplot(x = [1, 2], y = score[:2])"
   ]
  },
  {
   "cell_type": "code",
   "execution_count": null,
   "metadata": {},
   "outputs": [],
   "source": [
    "# alpha vs mcs: 11vs164 MCS wins\n",
    "# alpha vs minmax: 100vs0 alpha wins\n"
   ]
  },
  {
   "cell_type": "code",
   "execution_count": null,
   "metadata": {},
   "outputs": [],
   "source": [
    "# MCS > Alpha = CNN"
   ]
  }
 ],
 "metadata": {
  "kernelspec": {
   "display_name": "Python 3",
   "language": "python",
   "name": "python3"
  },
  "language_info": {
   "codemirror_mode": {
    "name": "ipython",
    "version": 3
   },
   "file_extension": ".py",
   "mimetype": "text/x-python",
   "name": "python",
   "nbconvert_exporter": "python",
   "pygments_lexer": "ipython3",
   "version": "3.7.4"
  },
  "toc": {
   "base_numbering": 1,
   "nav_menu": {},
   "number_sections": true,
   "sideBar": true,
   "skip_h1_title": false,
   "title_cell": "Table of Contents",
   "title_sidebar": "Contents",
   "toc_cell": false,
   "toc_position": {},
   "toc_section_display": true,
   "toc_window_display": false
  }
 },
 "nbformat": 4,
 "nbformat_minor": 2
}
