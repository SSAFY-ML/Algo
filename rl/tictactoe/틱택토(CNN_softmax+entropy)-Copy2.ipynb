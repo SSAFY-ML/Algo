{
 "cells": [
  {
   "cell_type": "code",
   "execution_count": 1,
   "metadata": {},
   "outputs": [
    {
     "name": "stderr",
     "output_type": "stream",
     "text": [
      "Using TensorFlow backend.\n"
     ]
    }
   ],
   "source": [
    "import numpy as np\n",
    "import seaborn as sns\n",
    "from time import time\n",
    "\n",
    "import tensorflow as tf\n",
    "from tensorflow import keras\n",
    "from keras import layers, models\n",
    "from keras.regularizers import L1L2\n",
    "import keras.backend as K\n",
    "\n",
    "import os\n",
    "import gc\n",
    "from pathlib import Path\n",
    "\n",
    "tf.config.experimental.set_visible_devices([], 'GPU')"
   ]
  },
  {
   "cell_type": "code",
   "execution_count": 2,
   "metadata": {},
   "outputs": [],
   "source": [
    "from tensorflow.keras.losses import Huber"
   ]
  },
  {
   "cell_type": "code",
   "execution_count": 3,
   "metadata": {},
   "outputs": [],
   "source": [
    "init_state = np.array([\n",
    "    [0, 0, 0],\n",
    "    [0, 0, 0],\n",
    "    [0, 0, 0]\n",
    "])"
   ]
  },
  {
   "cell_type": "code",
   "execution_count": 4,
   "metadata": {},
   "outputs": [],
   "source": [
    "class Game:\n",
    "    def __init__(self, state, FIRST=1):\n",
    "        self.state = state\n",
    "        self.empty = self.make_empty(state)\n",
    "        self.first_player = FIRST\n",
    "        \n",
    "    def make_empty(self, state):\n",
    "        emp = []\n",
    "        for i in range(3):\n",
    "            for j in range(3):\n",
    "                if state[i][j] == 0:\n",
    "                    emp.append(3*i + j)\n",
    "        return emp\n",
    "    \n",
    "    def is_lose(self):\n",
    "        a = self.next_opp()\n",
    "        \n",
    "        for i in range(3):\n",
    "            if self.state[i][0] == self.state[i][1] == self.state[i][2] == a:\n",
    "                return True\n",
    "            elif self.state[0][i] == self.state[1][i] == self.state[2][i] == a:\n",
    "                return True\n",
    "        if self.state[0][0] == self.state[1][1] == self.state[2][2] == a:\n",
    "            return True\n",
    "        if self.state[0][2] == self.state[1][1] == self.state[2][0] == a:\n",
    "            return True\n",
    "        return 0\n",
    "    \n",
    "    def is_draw(self):\n",
    "        a = self.next_opp()\n",
    "        if self.is_lose():\n",
    "            return 0\n",
    "        if np.all(self.state):\n",
    "            return 1\n",
    "        else:\n",
    "            return 0\n",
    "        \n",
    "    def is_done(self):\n",
    "        if self.is_lose() or self.is_draw():\n",
    "            return 1\n",
    "        else:\n",
    "            return 0\n",
    "        \n",
    "        \n",
    "    def update(self, target):\n",
    "        state = self.state.copy()\n",
    "        x, y = target//3, target%3\n",
    "        a = self.next_opp()\n",
    "        state[x][y] = a\n",
    "        return Game(state)\n",
    "    \n",
    "    \n",
    "    def next_opp(self):\n",
    "        a = b = 0\n",
    "        for i in range(len(self.state)):\n",
    "            for j in range(len(self.state)):\n",
    "                if self.state[i][j] == self.first_player:\n",
    "                    a += 1\n",
    "                elif self.state[i][j] != 0:\n",
    "                    b += 1\n",
    "                    \n",
    "        if a == b:\n",
    "            return self.first_player\n",
    "        else:\n",
    "            return 2 + min(0, 1-self.first_player)"
   ]
  },
  {
   "cell_type": "code",
   "execution_count": 5,
   "metadata": {},
   "outputs": [],
   "source": [
    "class Random:\n",
    "    def action(self, game):\n",
    "        return np.random.choice(game.empty)"
   ]
  },
  {
   "cell_type": "code",
   "execution_count": 6,
   "metadata": {},
   "outputs": [],
   "source": [
    "def playout(game):\n",
    "    if game.is_lose():\n",
    "        return -1\n",
    "\n",
    "    if game.is_draw():\n",
    "        return 0\n",
    "\n",
    "    return -playout(game.update(np.random.choice(game.empty)))\n",
    "\n",
    "\n",
    "def action(game):\n",
    "    n_steps=50\n",
    "    values = [0] * 9\n",
    "    for i in range(9):\n",
    "        if i in game.empty:\n",
    "            for _ in range(n_steps):\n",
    "                g = game.update(i)\n",
    "                values[i] += playout(g)\n",
    "            \n",
    "    for i in range(9):\n",
    "        values[i] /= n_steps\n",
    "        \n",
    "    return values"
   ]
  },
  {
   "cell_type": "code",
   "execution_count": null,
   "metadata": {},
   "outputs": [],
   "source": [
    "DN_FILTERS = 128  # 컨볼루션 레이어 커널 수(오리지널 256）\n",
    "DN_RESIDUAL_NUM = 16  # 레지듀얼 블록 수(오리지널 19)\n",
    "DN_INPUT_SHAPE = (3, 3, 2)  # 입력 셰이프\n",
    "DN_OUTPUT_SIZE = 9  # 행동 수(배치 수(3*3))\n",
    "    \n",
    "def residual_block():\n",
    "    def f(x):\n",
    "        sc = x\n",
    "        x = layers.Conv2D(DN_FILTERS, 3, padding='same', use_bias=False,\n",
    "              kernel_initializer='he_normal', kernel_regularizer=L1L2(l2=0.0005))(x)\n",
    "        x = layers.BatchNormalization()(x)\n",
    "        x = layers.Activation('relu')(x)\n",
    "        x = layers.Conv2D(DN_FILTERS, 3, padding='same', use_bias=False,\n",
    "              kernel_initializer='he_normal', kernel_regularizer=L1L2(l2=0.0005))(x)\n",
    "        x = layers.BatchNormalization()(x)\n",
    "        x = layers.Add()([x, sc])\n",
    "        x = layers.Activation('relu')(x)\n",
    "        return x\n",
    "\n",
    "    return f\n",
    "    \n",
    "def dual_network():\n",
    "    # 모델 생성이 완료된 경우 처리하지 않음\n",
    "#     if os.path.exists('./model/best.h5'):\n",
    "#         return\n",
    "\n",
    "    # 입력 레이어\n",
    "    input = layers.Input(shape=DN_INPUT_SHAPE)\n",
    "\n",
    "    # 컨볼루션 레이어\n",
    "    x = layers.Conv2D(DN_FILTERS, 3, padding='same', use_bias=False,\n",
    "              kernel_initializer='he_normal', kernel_regularizer=L1L2(l2=0.0005))(input)\n",
    "    x = layers.BatchNormalization()(x)\n",
    "    x = layers.Activation('relu')(x)\n",
    "\n",
    "    # 레지듀얼 블록 x 16\n",
    "    for i in range(DN_RESIDUAL_NUM):\n",
    "        x = residual_block()(x)\n",
    "\n",
    "    # 풀링 레이어\n",
    "    x = layers.GlobalAveragePooling2D()(x)\n",
    "\n",
    "    # policy 출력\n",
    "    p = layers.Dense(DN_OUTPUT_SIZE, kernel_regularizer=L1L2(l2=0.0005),\n",
    "              activation='softmax', name='pi')(x)\n",
    "\n",
    "    # value 출력\n",
    "#     v = layers.Dense(1, kernel_regularizer=L1L2(l2=0.0005))(x)\n",
    "#     v = layers.Activation('tanh', name='v')(v)\n",
    "\n",
    "    # 모델 생성\n",
    "    model = models.Model(inputs=input, outputs=p)\n",
    "\n",
    "    model.compile(optimizer = 'adam',\n",
    "                 loss = 'categorical_crossentropy')\n",
    "\n",
    "    return model\n",
    "\n",
    "class CNN:\n",
    "    def __init__(self):\n",
    "        K.clear_session()\n",
    "        self.model = dual_network()\n",
    "        \n",
    "    def action(self, game):\n",
    "        status = game.next_opp()\n",
    "        target = np.reshape(game.state, (1, 1, 3, 3)).astype('float')\n",
    "        target = np.where(target==status, 1., np.where(target==0, 0, 2.))\n",
    "        res = self.model.predict(target)[0]\n",
    "        a = np.argmax(res)\n",
    "        while a not in game.empty:\n",
    "            res[a] = 0\n",
    "            a = np.argmax(res)\n",
    "        \n",
    "        return a\n",
    "\n",
    "    def train(self, n=200):\n",
    "        X = []\n",
    "        y = []\n",
    "        for _ in range(n):\n",
    "            print(_)\n",
    "            for i in [1, 2]:\n",
    "                game = Game(init_state)\n",
    "\n",
    "                while 1:\n",
    "                    status = game.next_opp()\n",
    "                    state = self.make_state(game)\n",
    "                    values = action(game)\n",
    "                    a = np.argmax(values)\n",
    "                    \n",
    "                    X.append(state)\n",
    "                    temp_y = [0] * 9\n",
    "                    temp_y[a] = np.max(values)\n",
    "                    y.append(temp_y)\n",
    "\n",
    "                    game = game.update(a)\n",
    "                    \n",
    "                    if game.is_done():\n",
    "                        break\n",
    "                        \n",
    "        es = keras.callbacks.EarlyStopping(patience=20, restore_best_weights=True)\n",
    "\n",
    "        X = np.reshape(X, (len(X), 1, 3, 3))\n",
    "        y = np.reshape(y, (len(y), 9))   \n",
    "        print(len(X))\n",
    "        self.model.fit(X, y, epochs=1000, verbose=1, \n",
    "                       callbacks=[es], validation_split=0.2,\n",
    "                      batch_size = 256)\n",
    "        \n",
    "    def make_state(self, game):\n",
    "        status = game.next_opp()\n",
    "        opp = 3 - status\n",
    "        a = game.state\n",
    "        a1 = np.where(a==status, 1, 0)\n",
    "        a2 = np.where(a==opp, 1, 0)\n",
    "        res = np.array([a1, a2])\n",
    "        \n",
    "        return res\n"
   ]
  },
  {
   "cell_type": "code",
   "execution_count": null,
   "metadata": {},
   "outputs": [],
   "source": [
    "dd = CNN()\n",
    "gc.collect()"
   ]
  },
  {
   "cell_type": "code",
   "execution_count": null,
   "metadata": {
    "scrolled": true
   },
   "outputs": [],
   "source": [
    "dd.train(100)\n",
    "gc.collect()"
   ]
  },
  {
   "cell_type": "code",
   "execution_count": null,
   "metadata": {
    "scrolled": true
   },
   "outputs": [],
   "source": [
    "# for _ in range(100):\n",
    "#     print(_)\n",
    "#     dd.train()"
   ]
  },
  {
   "cell_type": "code",
   "execution_count": null,
   "metadata": {},
   "outputs": [],
   "source": [
    "a = init_state.copy()\n",
    "a = np.reshape(a, (1, 1, 3, 3)).astype('float')\n",
    "a = np.where(a==1, 1., np.where(a==0, 0, -1.))\n",
    "\n",
    "dd.model.predict(a)"
   ]
  },
  {
   "cell_type": "code",
   "execution_count": null,
   "metadata": {
    "scrolled": false
   },
   "outputs": [],
   "source": [
    "def play(game, m1, m2):\n",
    "    global score\n",
    "    while 1:\n",
    "        a1 = m1.action(game)\n",
    "        game = game.update(a1)\n",
    "#         print(game.state)\n",
    "        if game.is_lose():\n",
    "            score[0] += 1\n",
    "#             print(game.state)\n",
    "            return \n",
    "        elif game.is_draw():\n",
    "            score[2] += 1\n",
    "#             print(game.state)\n",
    "            return \n",
    "\n",
    "        a2 = m2.action(game)\n",
    "        game = game.update(a2)\n",
    "#         print(game.state)\n",
    "        if game.is_lose():\n",
    "            score[1] += 1\n",
    "#             print(game.state)\n",
    "            return \n",
    "        elif game.is_draw():\n",
    "            score[2] += 1\n",
    "#             print(game.state)\n",
    "            return \n",
    "        "
   ]
  },
  {
   "cell_type": "code",
   "execution_count": null,
   "metadata": {},
   "outputs": [],
   "source": [
    "game = Game(init_state)\n",
    "m1 = Random()\n",
    "# d = DQN(1)"
   ]
  },
  {
   "cell_type": "code",
   "execution_count": null,
   "metadata": {},
   "outputs": [],
   "source": [
    "dd.model.predict(np.reshape(init_state, (1, 1, 3, 3))).astype('f')[0]"
   ]
  },
  {
   "cell_type": "code",
   "execution_count": null,
   "metadata": {
    "scrolled": true
   },
   "outputs": [],
   "source": [
    "%%time\n",
    "score = [0, 0, 0]\n",
    "for _ in range(100):\n",
    "#     print(_)\n",
    "    play(game, m1, dd)\n",
    "print(score)\n",
    "gc.collect()\n",
    "\n",
    "score = [0, 0, 0]\n",
    "for _ in range(100):\n",
    "#     print(_)\n",
    "    play(game, dd, m1)\n",
    "print(score)"
   ]
  },
  {
   "cell_type": "code",
   "execution_count": null,
   "metadata": {},
   "outputs": [],
   "source": [
    "# sns.barplot(x = [1, 2], y = score[:2])"
   ]
  },
  {
   "cell_type": "code",
   "execution_count": null,
   "metadata": {},
   "outputs": [],
   "source": [
    "# softmax + cross_entropy\n",
    "# v1: 3vs7 // 3vs4\n",
    "# v2: "
   ]
  },
  {
   "cell_type": "code",
   "execution_count": null,
   "metadata": {},
   "outputs": [],
   "source": []
  }
 ],
 "metadata": {
  "kernelspec": {
   "display_name": "Python 3",
   "language": "python",
   "name": "python3"
  },
  "language_info": {
   "codemirror_mode": {
    "name": "ipython",
    "version": 3
   },
   "file_extension": ".py",
   "mimetype": "text/x-python",
   "name": "python",
   "nbconvert_exporter": "python",
   "pygments_lexer": "ipython3",
   "version": "3.7.4"
  },
  "toc": {
   "base_numbering": 1,
   "nav_menu": {},
   "number_sections": true,
   "sideBar": true,
   "skip_h1_title": false,
   "title_cell": "Table of Contents",
   "title_sidebar": "Contents",
   "toc_cell": false,
   "toc_position": {},
   "toc_section_display": true,
   "toc_window_display": false
  }
 },
 "nbformat": 4,
 "nbformat_minor": 2
}
