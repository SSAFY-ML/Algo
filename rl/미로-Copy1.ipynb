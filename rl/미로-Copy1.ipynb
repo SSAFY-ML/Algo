{
 "cells": [
  {
   "cell_type": "code",
   "execution_count": 1,
   "metadata": {},
   "outputs": [],
   "source": [
    "import numpy as np\n",
    "from time import time"
   ]
  },
  {
   "cell_type": "code",
   "execution_count": 2,
   "metadata": {},
   "outputs": [],
   "source": [
    "obj = [\n",
    "    [0, 0, 0, 0, 1], \n",
    "    [0, 1, 1, 0, 0], \n",
    "    [0, 0, 1, 0, 0],\n",
    "    [0, 0, 1, 1, 0]\n",
    "]\n",
    "obj = np.array(obj)"
   ]
  },
  {
   "cell_type": "code",
   "execution_count": 3,
   "metadata": {},
   "outputs": [
    {
     "data": {
      "text/plain": [
       "array([[0, 0, 0, 0, 1],\n",
       "       [0, 1, 1, 0, 0],\n",
       "       [0, 0, 1, 0, 0],\n",
       "       [0, 0, 1, 1, 0]])"
      ]
     },
     "execution_count": 3,
     "metadata": {},
     "output_type": "execute_result"
    }
   ],
   "source": [
    "obj"
   ]
  },
  {
   "cell_type": "code",
   "execution_count": 4,
   "metadata": {},
   "outputs": [],
   "source": [
    "def pi(a):\n",
    "    for i in range(len(a)):\n",
    "        if a[i] == np.nan:\n",
    "            a[i] = 0\n",
    "            \n",
    "    s = np.nansum(a)\n",
    "    if s == 0:\n",
    "        s = 1e-5\n",
    "        print('here')\n",
    "    for i in range(len(a)):\n",
    "        a[i] /= s\n",
    "    return a\n",
    "\n",
    "def get_pi(a):\n",
    "    for i in range(len(a)):\n",
    "        for j in range(len(a[0])):\n",
    "            a[i][j] = pi(a[i][j])\n",
    "    return a"
   ]
  },
  {
   "cell_type": "code",
   "execution_count": 5,
   "metadata": {},
   "outputs": [],
   "source": [
    "def action(s):\n",
    "    # eps는 사전 설정\n",
    "    ## s_next 생성\n",
    "    if np.random.rand() > eps:\n",
    "        return np.argmax(v[s])\n",
    "    else:\n",
    "        return np.random.choice([0, 1, 2, 3]) # 상하좌우\n",
    "    \n",
    "def state_map(s, a):\n",
    "    s = list(s)\n",
    "    if a == 0:\n",
    "        s[0] -= 1\n",
    "    elif a == 1:\n",
    "        s[0] += 1\n",
    "    elif a == 2:\n",
    "        s[1] -= 1\n",
    "    else:\n",
    "        s[1] += 1\n",
    "    return tuple(s)\n"
   ]
  },
  {
   "cell_type": "code",
   "execution_count": 6,
   "metadata": {},
   "outputs": [],
   "source": [
    "def update(s, a, r, s_next, v):\n",
    "    # lr, gamma 는 위에서 설정하기\n",
    "    if s_next == goal:\n",
    "        v[s][a] = v[s][a] + lr * (r - v[s][a])\n",
    "    else:\n",
    "        v[s][a] = v[s][a] + lr * (r + gamma*np.max(v[s_next]) - v[s][a])\n",
    "        \n",
    "#     v[s] = pi(v[s])\n",
    "    return v\n"
   ]
  },
  {
   "cell_type": "code",
   "execution_count": 7,
   "metadata": {},
   "outputs": [],
   "source": [
    "def is_wall(s):\n",
    "    if s[0] < 0 or s[0] > 3:\n",
    "        return True\n",
    "    elif s[1] < 0 or s[1] > 4:\n",
    "        return True\n",
    "    elif obj[s] == 1:\n",
    "        return True\n",
    "    else:\n",
    "        return False"
   ]
  },
  {
   "cell_type": "code",
   "execution_count": 8,
   "metadata": {},
   "outputs": [],
   "source": [
    "def play(s):\n",
    "    global v, fail_hist, hist, eps\n",
    "    temp_hist = []\n",
    "    while 1:\n",
    "        eps -= 0.01\n",
    "        temp_hist.append(s)\n",
    "#         print(s)\n",
    "        a = action(s)\n",
    "        s_next = state_map(s, a)\n",
    "#         print(a, s, s_next)\n",
    "        \n",
    "#         if (0 > s[0] or s[0] > 3) or (0 > s[1] or s[1] > 4) or obj[s] == 1: ## 가면 안되는 곳\n",
    "        if is_wall(s_next):\n",
    "            fail_hist.append((s, s_next))\n",
    "#             r = -1\n",
    "            v[s][a] = 0\n",
    "            v[s] = pi(v[s])\n",
    "#             v = update(s, a, r, s_next, v)\n",
    "#             print(v[s], s_next)\n",
    "            s_next = (0, 0)\n",
    "            \n",
    "            \n",
    "        elif s_next[0] == goal[0] and s_next[1] == goal[1]: ## 도착\n",
    "            r = 1\n",
    "            v = update(s, a, r, s_next, v)\n",
    "            break\n",
    "        else: ## 갈곳이 남음\n",
    "            r = 0\n",
    "            v = update(s, a, r , s_next, v)\n",
    "            \n",
    "#         print(v[s])\n",
    "        fake_obj[s_next] = 2\n",
    "#         print(fake_obj)\n",
    "        fake_obj[s_next] = obj[s_next]\n",
    "#         print(eps)\n",
    "            \n",
    "        s = s_next\n",
    "        \n",
    "    hist.append(temp_hist)"
   ]
  },
  {
   "cell_type": "code",
   "execution_count": 9,
   "metadata": {},
   "outputs": [],
   "source": [
    "shape = obj.shape\n",
    "value = [\n",
    "    [0, 0, 0, 0, 1], \n",
    "    [0, 1, 1, 0, 0], \n",
    "    [0, 0, 1, 0, 0],\n",
    "    [0, 0, 1, 1, 0]\n",
    "]\n",
    "for i in range(shape[0]):\n",
    "    for j in range(shape[1]):\n",
    "        value[i][j] = [0.25, 0.25, 0.25, 0.25] # 위, 아래, 좌, 우\n",
    "v = np.array(value)"
   ]
  },
  {
   "cell_type": "code",
   "execution_count": 10,
   "metadata": {
    "scrolled": true
   },
   "outputs": [
    {
     "name": "stdout",
     "output_type": "stream",
     "text": [
      "succes 0\n",
      "-18.48000000000009\n",
      "succes 1\n",
      "-18.67000000000012\n",
      "succes 2\n",
      "-18.920000000000158\n",
      "succes 3\n",
      "-19.13000000000019\n",
      "succes 4\n",
      "-19.360000000000227\n",
      "succes 5\n",
      "-19.590000000000263\n",
      "succes 6\n",
      "-19.800000000000296\n",
      "succes 7\n",
      "-20.03000000000033\n",
      "succes 8\n",
      "-20.22000000000036\n",
      "succes 9\n",
      "-20.290000000000372\n",
      "succes 10\n",
      "-20.520000000000408\n",
      "succes 11\n",
      "-20.710000000000438\n",
      "succes 12\n",
      "-20.92000000000047\n",
      "succes 13\n",
      "-20.99000000000048\n",
      "succes 14\n",
      "-21.18000000000051\n",
      "succes 15\n",
      "-21.250000000000522\n",
      "succes 16\n",
      "-21.460000000000555\n",
      "succes 17\n",
      "-21.650000000000585\n",
      "succes 18\n",
      "-21.720000000000596\n",
      "succes 19\n",
      "-21.790000000000607\n",
      "succes 20\n",
      "-21.980000000000636\n",
      "succes 21\n",
      "-22.050000000000647\n",
      "succes 22\n",
      "-22.12000000000066\n",
      "succes 23\n",
      "-22.310000000000688\n",
      "succes 24\n",
      "-22.3800000000007\n",
      "succes 25\n",
      "-22.45000000000071\n",
      "succes 26\n",
      "-22.52000000000072\n",
      "succes 27\n",
      "-22.59000000000073\n",
      "succes 28\n",
      "-22.660000000000743\n",
      "succes 29\n",
      "-22.730000000000754\n",
      "succes 30\n",
      "-22.800000000000765\n",
      "succes 31\n",
      "-22.870000000000775\n",
      "succes 32\n",
      "-22.940000000000786\n",
      "succes 33\n",
      "-23.010000000000797\n",
      "succes 34\n",
      "-23.08000000000081\n",
      "succes 35\n",
      "-23.15000000000082\n",
      "succes 36\n",
      "-23.22000000000083\n",
      "succes 37\n",
      "-23.29000000000084\n",
      "succes 38\n",
      "-23.360000000000852\n",
      "succes 39\n",
      "-23.430000000000863\n",
      "succes 40\n",
      "-23.500000000000874\n",
      "succes 41\n",
      "-23.570000000000885\n",
      "succes 42\n",
      "-23.640000000000896\n",
      "succes 43\n",
      "-23.710000000000907\n",
      "succes 44\n",
      "-23.780000000000918\n",
      "succes 45\n",
      "-23.85000000000093\n",
      "succes 46\n",
      "-23.92000000000094\n",
      "succes 47\n",
      "-23.99000000000095\n",
      "succes 48\n",
      "-24.06000000000096\n",
      "succes 49\n",
      "-24.130000000000972\n",
      "succes 50\n",
      "-24.200000000000983\n",
      "succes 51\n",
      "-24.270000000000994\n",
      "succes 52\n",
      "-24.340000000001005\n",
      "succes 53\n",
      "-24.410000000001016\n",
      "succes 54\n",
      "-24.480000000001027\n",
      "succes 55\n",
      "-24.550000000001038\n",
      "succes 56\n",
      "-24.62000000000105\n",
      "succes 57\n",
      "-24.69000000000106\n",
      "succes 58\n",
      "-24.76000000000107\n",
      "succes 59\n",
      "-24.830000000001082\n",
      "succes 60\n",
      "-24.900000000001093\n",
      "succes 61\n",
      "-24.970000000001104\n",
      "succes 62\n",
      "-25.040000000001115\n",
      "succes 63\n",
      "-25.110000000001126\n",
      "succes 64\n",
      "-25.180000000001137\n",
      "succes 65\n",
      "-25.250000000001148\n",
      "succes 66\n",
      "-25.32000000000116\n",
      "succes 67\n",
      "-25.39000000000117\n",
      "succes 68\n",
      "-25.46000000000118\n",
      "succes 69\n",
      "-25.53000000000119\n",
      "succes 70\n",
      "-25.600000000001202\n",
      "succes 71\n",
      "-25.670000000001213\n",
      "succes 72\n",
      "-25.740000000001224\n",
      "succes 73\n",
      "-25.810000000001235\n",
      "succes 74\n",
      "-25.880000000001246\n",
      "succes 75\n",
      "-25.950000000001257\n",
      "succes 76\n",
      "-26.020000000001268\n",
      "succes 77\n",
      "-26.09000000000128\n",
      "succes 78\n",
      "-26.16000000000129\n",
      "succes 79\n",
      "-26.2300000000013\n",
      "succes 80\n",
      "-26.30000000000131\n",
      "succes 81\n",
      "-26.370000000001323\n",
      "succes 82\n",
      "-26.440000000001334\n",
      "succes 83\n",
      "-26.510000000001344\n",
      "succes 84\n",
      "-26.580000000001355\n",
      "succes 85\n",
      "-26.650000000001366\n",
      "succes 86\n",
      "-26.720000000001377\n",
      "succes 87\n",
      "-26.79000000000139\n",
      "succes 88\n",
      "-26.8600000000014\n",
      "succes 89\n",
      "-26.93000000000141\n",
      "succes 90\n",
      "-27.00000000000142\n",
      "succes 91\n",
      "-27.070000000001432\n",
      "succes 92\n",
      "-27.140000000001443\n",
      "succes 93\n",
      "-27.210000000001454\n",
      "succes 94\n",
      "-27.280000000001465\n",
      "succes 95\n",
      "-27.350000000001476\n",
      "succes 96\n",
      "-27.420000000001487\n",
      "succes 97\n",
      "-27.490000000001498\n",
      "succes 98\n",
      "-27.56000000000151\n",
      "succes 99\n",
      "-27.63000000000152\n"
     ]
    }
   ],
   "source": [
    "lr = 0.1\n",
    "eps = 0.5\n",
    "gamma = 0.9\n",
    "v = np.array(value)\n",
    "fail_hist = []\n",
    "hist = []\n",
    "fake_obj = obj.copy()\n",
    "\n",
    "s_0 = (0, 0)\n",
    "goal = (3, 4)\n",
    "\n",
    "start = time()\n",
    "for i in range(100):\n",
    "    play(s_0)\n",
    "    print('succes', i)\n",
    "    print(eps)\n",
    "#     eps = 0.5\n",
    "\n",
    "lt = time() - start"
   ]
  },
  {
   "cell_type": "code",
   "execution_count": 11,
   "metadata": {
    "scrolled": true
   },
   "outputs": [
    {
     "data": {
      "text/plain": [
       "array([[[0.        , 0.19112403, 0.        , 0.48680571],\n",
       "        [0.        , 0.        , 0.2073739 , 0.56588555],\n",
       "        [0.        , 0.        , 0.22601427, 0.64474569],\n",
       "        [0.        , 0.72479825, 0.24196972, 0.        ],\n",
       "        [0.25      , 0.25      , 0.25      , 0.25      ]],\n",
       "\n",
       "       [[0.19019372, 0.1912742 , 0.        , 0.        ],\n",
       "        [0.25      , 0.25      , 0.25      , 0.25      ],\n",
       "        [0.25      , 0.25      , 0.25      , 0.25      ],\n",
       "        [0.25479605, 0.80883315, 0.        , 0.25738729],\n",
       "        [0.        , 0.25259931, 0.25334371, 0.        ]],\n",
       "\n",
       "       [[0.1901375 , 0.19105146, 0.        , 0.19064092],\n",
       "        [0.        , 0.19061051, 0.19072024, 0.        ],\n",
       "        [0.25      , 0.25      , 0.25      , 0.25      ],\n",
       "        [0.26906726, 0.        , 0.        , 0.89978416],\n",
       "        [0.24840325, 0.99998008, 0.25      , 0.25      ]],\n",
       "\n",
       "       [[0.19039651, 0.        , 0.        , 0.19087522],\n",
       "        [0.19077562, 0.        , 0.19059968, 0.        ],\n",
       "        [0.25      , 0.25      , 0.25      , 0.25      ],\n",
       "        [0.25      , 0.25      , 0.25      , 0.25      ],\n",
       "        [0.25      , 0.25      , 0.25      , 0.25      ]]])"
      ]
     },
     "execution_count": 11,
     "metadata": {},
     "output_type": "execute_result"
    }
   ],
   "source": [
    "v"
   ]
  },
  {
   "cell_type": "code",
   "execution_count": 12,
   "metadata": {
    "scrolled": true
   },
   "outputs": [],
   "source": [
    "value = [\n",
    "    [0, 0, 0, 0, 1], \n",
    "    [0, 1, 1, 0, 0], \n",
    "    [0, 0, 1, 0, 0],\n",
    "    [0, 0, 1, 1, 0]\n",
    "]"
   ]
  },
  {
   "cell_type": "code",
   "execution_count": 13,
   "metadata": {},
   "outputs": [
    {
     "data": {
      "text/plain": [
       "-27.63000000000152"
      ]
     },
     "execution_count": 13,
     "metadata": {},
     "output_type": "execute_result"
    }
   ],
   "source": [
    "eps"
   ]
  },
  {
   "cell_type": "code",
   "execution_count": 14,
   "metadata": {},
   "outputs": [
    {
     "data": {
      "text/plain": [
       "0.11481404304504395"
      ]
     },
     "execution_count": 14,
     "metadata": {},
     "output_type": "execute_result"
    }
   ],
   "source": [
    "lt"
   ]
  },
  {
   "cell_type": "code",
   "execution_count": 15,
   "metadata": {},
   "outputs": [
    {
     "name": "stdout",
     "output_type": "stream",
     "text": [
      "83\n"
     ]
    }
   ],
   "source": [
    "c = 0\n",
    "for h in hist:\n",
    "    if len(h) == 7:\n",
    "        c += 1\n",
    "        \n",
    "print(c)"
   ]
  },
  {
   "cell_type": "code",
   "execution_count": 16,
   "metadata": {},
   "outputs": [],
   "source": [
    "lh = list(map(lambda x: len(x), hist))"
   ]
  },
  {
   "cell_type": "code",
   "execution_count": 20,
   "metadata": {},
   "outputs": [
    {
     "data": {
      "text/plain": [
       "[<matplotlib.lines.Line2D at 0x24d590562c8>]"
      ]
     },
     "execution_count": 20,
     "metadata": {},
     "output_type": "execute_result"
    },
    {
     "data": {
      "image/png": "[encoded data removed]",
      "text/plain": [
       "<Figure size 432x288 with 1 Axes>"
      ]
     },
     "metadata": {
      "needs_background": "light"
     },
     "output_type": "display_data"
    }
   ],
   "source": [
    "import matplotlib.pyplot as plt\n",
    "\n",
    "plt.plot(lh[10:])"
   ]
  },
  {
   "cell_type": "code",
   "execution_count": 18,
   "metadata": {
    "scrolled": true
   },
   "outputs": [
    {
     "data": {
      "text/plain": [
       "[1898,\n",
       " 19,\n",
       " 25,\n",
       " 21,\n",
       " 23,\n",
       " 23,\n",
       " 21,\n",
       " 23,\n",
       " 19,\n",
       " 7,\n",
       " 23,\n",
       " 19,\n",
       " 21,\n",
       " 7,\n",
       " 19,\n",
       " 7,\n",
       " 21,\n",
       " 19,\n",
       " 7,\n",
       " 7,\n",
       " 19,\n",
       " 7,\n",
       " 7,\n",
       " 19,\n",
       " 7,\n",
       " 7,\n",
       " 7,\n",
       " 7,\n",
       " 7,\n",
       " 7,\n",
       " 7,\n",
       " 7,\n",
       " 7,\n",
       " 7,\n",
       " 7,\n",
       " 7,\n",
       " 7,\n",
       " 7,\n",
       " 7,\n",
       " 7,\n",
       " 7,\n",
       " 7,\n",
       " 7,\n",
       " 7,\n",
       " 7,\n",
       " 7,\n",
       " 7,\n",
       " 7,\n",
       " 7,\n",
       " 7,\n",
       " 7,\n",
       " 7,\n",
       " 7,\n",
       " 7,\n",
       " 7,\n",
       " 7,\n",
       " 7,\n",
       " 7,\n",
       " 7,\n",
       " 7,\n",
       " 7,\n",
       " 7,\n",
       " 7,\n",
       " 7,\n",
       " 7,\n",
       " 7,\n",
       " 7,\n",
       " 7,\n",
       " 7,\n",
       " 7,\n",
       " 7,\n",
       " 7,\n",
       " 7,\n",
       " 7,\n",
       " 7,\n",
       " 7,\n",
       " 7,\n",
       " 7,\n",
       " 7,\n",
       " 7,\n",
       " 7,\n",
       " 7,\n",
       " 7,\n",
       " 7,\n",
       " 7,\n",
       " 7,\n",
       " 7,\n",
       " 7,\n",
       " 7,\n",
       " 7,\n",
       " 7,\n",
       " 7,\n",
       " 7,\n",
       " 7,\n",
       " 7,\n",
       " 7,\n",
       " 7,\n",
       " 7,\n",
       " 7,\n",
       " 7]"
      ]
     },
     "execution_count": 18,
     "metadata": {},
     "output_type": "execute_result"
    }
   ],
   "source": [
    "lh"
   ]
  },
  {
   "cell_type": "code",
   "execution_count": null,
   "metadata": {},
   "outputs": [],
   "source": []
  }
 ],
 "metadata": {
  "kernelspec": {
   "display_name": "Python 3",
   "language": "python",
   "name": "python3"
  },
  "language_info": {
   "codemirror_mode": {
    "name": "ipython",
    "version": 3
   },
   "file_extension": ".py",
   "mimetype": "text/x-python",
   "name": "python",
   "nbconvert_exporter": "python",
   "pygments_lexer": "ipython3",
   "version": "3.7.4"
  },
  "toc": {
   "base_numbering": 1,
   "nav_menu": {},
   "number_sections": true,
   "sideBar": true,
   "skip_h1_title": false,
   "title_cell": "Table of Contents",
   "title_sidebar": "Contents",
   "toc_cell": false,
   "toc_position": {},
   "toc_section_display": true,
   "toc_window_display": false
  }
 },
 "nbformat": 4,
 "nbformat_minor": 2
}
