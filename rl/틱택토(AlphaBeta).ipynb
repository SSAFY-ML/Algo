{
 "cells": [
  {
   "cell_type": "code",
   "execution_count": 1,
   "metadata": {},
   "outputs": [],
   "source": [
    "import numpy as np\n",
    "import seaborn as sns\n",
    "from time import time\n",
    "import gc"
   ]
  },
  {
   "cell_type": "code",
   "execution_count": 2,
   "metadata": {},
   "outputs": [],
   "source": [
    "init_state = np.array([\n",
    "    [0, 0, 0],\n",
    "    [0, 0, 0],\n",
    "    [0, 0, 0]\n",
    "])"
   ]
  },
  {
   "cell_type": "code",
   "execution_count": 3,
   "metadata": {},
   "outputs": [],
   "source": [
    "class Game:\n",
    "    def __init__(self, state):\n",
    "        self.state = state\n",
    "        self.empty = self.make_empty(state)\n",
    "        self.first_player = FIRST\n",
    "        \n",
    "    def make_empty(self, state):\n",
    "        emp = []\n",
    "        for i in range(3):\n",
    "            for j in range(3):\n",
    "                if state[i][j] == 0:\n",
    "                    emp.append(3*i + j)\n",
    "        \n",
    "        return emp\n",
    "    \n",
    "    def is_lose(self, a):\n",
    "        opp = 2 - (a-1)\n",
    "        \n",
    "        for i in range(3):\n",
    "            if self.state[i][0] == self.state[i][1] == self.state[i][2] == opp:\n",
    "                return 1\n",
    "            elif self.state[0][i] == self.state[1][i] == self.state[2][i] == opp:\n",
    "                return 1\n",
    "        if self.state[0][0] == self.state[1][1] == self.state[2][2] == opp:\n",
    "            return 1\n",
    "        return 0\n",
    "    \n",
    "    def is_win(self, a):       \n",
    "        for i in range(3):\n",
    "            if self.state[i][0] == self.state[i][1] == self.state[i][2] == a:\n",
    "                return 1\n",
    "            elif self.state[0][i] == self.state[1][i] == self.state[2][i] == a:\n",
    "                return 1\n",
    "        if self.state[0][0] == self.state[1][1] == self.state[2][2] == a:\n",
    "            return 1\n",
    "        if self.state[0][2] == self.state[1][1] == self.state[2][0] == a:\n",
    "            return 1\n",
    "        return 0\n",
    "    \n",
    "    def is_draw(self, a):\n",
    "        if self.is_win(a):\n",
    "            return 0\n",
    "        if np.all(self.state):\n",
    "            return 1\n",
    "        else:\n",
    "            return 0\n",
    "        \n",
    "    def is_done(self):\n",
    "        if self.is_win(1) or self.is_win(2) or self.is_draw(a):\n",
    "            return 1\n",
    "        else:\n",
    "            return 0\n",
    "        \n",
    "        \n",
    "    def update(self, target):\n",
    "        state = self.state.copy()\n",
    "        x, y = target//3, target%3\n",
    "        a = self.next_opp()\n",
    "        state[x][y] = a\n",
    "        return Game(state)\n",
    "    \n",
    "    \n",
    "    def next_opp(self):\n",
    "        a = b = 0\n",
    "        for i in range(len(self.state)):\n",
    "            for j in range(len(self.state)):\n",
    "                if self.state[i][j] == self.first_player:\n",
    "                    a += 1\n",
    "                elif self.state[i][j] != 0:\n",
    "                    b += 1\n",
    "                    \n",
    "        if a == b:\n",
    "            return self.first_player\n",
    "        else:\n",
    "            return 2 + min(0, 1-self.first_player)"
   ]
  },
  {
   "cell_type": "code",
   "execution_count": 4,
   "metadata": {},
   "outputs": [],
   "source": [
    "class Random:\n",
    "    def __init__(self, status):\n",
    "        self.status = status\n",
    "\n",
    "    def action(self, game):\n",
    "        return np.random.choice(game.empty)"
   ]
  },
  {
   "cell_type": "code",
   "execution_count": 5,
   "metadata": {},
   "outputs": [],
   "source": [
    "class MinMax:\n",
    "    def __init__(self, status):\n",
    "        self.status = status\n",
    "\n",
    "    def value(self, game, alpha, beta):\n",
    "#         print(game.state)\n",
    "        if game.is_lose(self.status):\n",
    "            return -1\n",
    "        \n",
    "        if game.is_draw(self.status):\n",
    "            return 0\n",
    "        \n",
    "        if game.is_win(self.status):\n",
    "#             print(game.state)\n",
    "            return 1\n",
    "        \n",
    "        \n",
    "        best_score = -float('inf')\n",
    "        score = 0\n",
    "        for a in game.empty:\n",
    "            score += self.value(game.update(a), beta, alpha)\n",
    "            \n",
    "            if score > alpha:\n",
    "                alpha = score\n",
    "#                 print(score)\n",
    "\n",
    "            if alpha >= beta:\n",
    "                return alpha\n",
    "                \n",
    "        return alpha\n",
    "        \n",
    "    def action(self, game):\n",
    "#         if FIRST == self.status and len(game.empty) == 9:\n",
    "#             return 4\n",
    "        \n",
    "        alpha = -float('inf')\n",
    "        \n",
    "        for a in game.empty:\n",
    "            score = self.value(game.update(a), -float('inf'), alpha)\n",
    "            if score > alpha:\n",
    "                best_action = a\n",
    "                alpha = score\n",
    "#                 print(best_action)\n",
    "        return best_action\n",
    "\n",
    "    "
   ]
  },
  {
   "cell_type": "code",
   "execution_count": 6,
   "metadata": {
    "scrolled": false
   },
   "outputs": [],
   "source": [
    "def play(game, m1, m2):\n",
    "    global score\n",
    "    while 1:\n",
    "        a1 = m1.action(game)\n",
    "        game = game.update(a1)\n",
    "        if game.is_win(m1.status):\n",
    "            score[m1.status-1] += 1\n",
    "#             print(game.state)\n",
    "            return \n",
    "        elif game.is_draw(m1.status):\n",
    "            score[2] += 1\n",
    "#             print(game.state)\n",
    "            return \n",
    "\n",
    "        a2 = m2.action(game)\n",
    "        game = game.update(a2)\n",
    "        if game.is_win(m2.status):\n",
    "            score[m2.status-1] += 1\n",
    "#             print(game.state)\n",
    "            return \n",
    "        elif game.is_draw(m2.status):\n",
    "            score[2] += 1\n",
    "#             print(game.state)\n",
    "            return \n",
    "        "
   ]
  },
  {
   "cell_type": "code",
   "execution_count": 7,
   "metadata": {},
   "outputs": [],
   "source": [
    "FIRST = 1\n",
    "game = Game(init_state)\n",
    "m1 = Random(1)\n",
    "m2 = MinMax(2)"
   ]
  },
  {
   "cell_type": "code",
   "execution_count": 8,
   "metadata": {
    "scrolled": true
   },
   "outputs": [
    {
     "name": "stdout",
     "output_type": "stream",
     "text": [
      "Wall time: 11.6 s\n"
     ]
    }
   ],
   "source": [
    "%%time\n",
    "score = [0, 0, 0]\n",
    "for _ in range(1000):\n",
    "#     print(_)\n",
    "    play(game, m1, m2)\n",
    "    \n",
    "gc.collect()\n",
    "\n",
    "FIRST = 2\n",
    "game = Game(init_state)\n",
    "score1 = score.copy()\n",
    "for _ in range(1000):\n",
    "#     print(_)\n",
    "    play(game, m2, m1)"
   ]
  },
  {
   "cell_type": "code",
   "execution_count": 9,
   "metadata": {},
   "outputs": [
    {
     "data": {
      "text/plain": [
       "[334, 1447, 219]"
      ]
     },
     "execution_count": 9,
     "metadata": {},
     "output_type": "execute_result"
    }
   ],
   "source": [
    "score"
   ]
  },
  {
   "cell_type": "code",
   "execution_count": 10,
   "metadata": {},
   "outputs": [
    {
     "data": {
      "text/plain": [
       "[179, 651, 170]"
      ]
     },
     "execution_count": 10,
     "metadata": {},
     "output_type": "execute_result"
    }
   ],
   "source": [
    "score1"
   ]
  },
  {
   "cell_type": "code",
   "execution_count": 11,
   "metadata": {},
   "outputs": [
    {
     "data": {
      "text/plain": [
       "<matplotlib.axes._subplots.AxesSubplot at 0x2e9ab5a34c8>"
      ]
     },
     "execution_count": 11,
     "metadata": {},
     "output_type": "execute_result"
    },
    {
     "data": {
      "image/png": "[encoded data removed]",
      "text/plain": [
       "<Figure size 432x288 with 1 Axes>"
      ]
     },
     "metadata": {
      "needs_background": "light"
     },
     "output_type": "display_data"
    }
   ],
   "source": [
    "sns.barplot(x = [1, 2], y = score[:2])"
   ]
  },
  {
   "cell_type": "code",
   "execution_count": 12,
   "metadata": {},
   "outputs": [],
   "source": [
    "# v1: 75vs120\n",
    "# v2: 57vs134\n",
    "# v3: 61vs128\n",
    "# v4: 52vs131 // 33vs56\n",
    "# v5: 47vs144 // 29vs65\n",
    "# v6: 45vs150 // 32vs63\n",
    "# v7 221vs1183 // 113vs402\n",
    "# v8 310vs1210 // 78vs492\n",
    "# v9 331vs1444 // 194vs645"
   ]
  },
  {
   "cell_type": "code",
   "execution_count": null,
   "metadata": {},
   "outputs": [],
   "source": []
  }
 ],
 "metadata": {
  "kernelspec": {
   "display_name": "Python 3",
   "language": "python",
   "name": "python3"
  },
  "language_info": {
   "codemirror_mode": {
    "name": "ipython",
    "version": 3
   },
   "file_extension": ".py",
   "mimetype": "text/x-python",
   "name": "python",
   "nbconvert_exporter": "python",
   "pygments_lexer": "ipython3",
   "version": "3.7.4"
  },
  "toc": {
   "base_numbering": 1,
   "nav_menu": {},
   "number_sections": true,
   "sideBar": true,
   "skip_h1_title": false,
   "title_cell": "Table of Contents",
   "title_sidebar": "Contents",
   "toc_cell": false,
   "toc_position": {},
   "toc_section_display": true,
   "toc_window_display": false
  }
 },
 "nbformat": 4,
 "nbformat_minor": 2
}
